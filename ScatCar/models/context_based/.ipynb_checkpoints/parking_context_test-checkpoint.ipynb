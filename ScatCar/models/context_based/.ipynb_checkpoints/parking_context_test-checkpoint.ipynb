{
 "cells": [
  {
   "cell_type": "code",
   "execution_count": null,
   "metadata": {
    "scrolled": true
   },
   "outputs": [],
   "source": [
    "import warnings\n",
    "warnings.simplefilter(action='ignore', category=FutureWarning)\n",
    "import matplotlib.pyplot as plt\n",
    "import tensorflow as tf"
   ]
  },
  {
   "cell_type": "code",
   "execution_count": null,
   "metadata": {},
   "outputs": [],
   "source": [
    "import random"
   ]
  },
  {
   "cell_type": "code",
   "execution_count": null,
   "metadata": {
    "scrolled": true
   },
   "outputs": [],
   "source": [
    "from parking_slot_detector.config import *\n",
    "from parking_slot_detector.utils.data_utils import get_batch_data, parse_line\n",
    "from parking_slot_detector.utils.misc_utils import parse_anchors, read_class_names, AverageMeter\n",
    "import cv2\n",
    "import numpy as np\n",
    "\n",
    "from parking_slot_detector.utils.eval_utils import get_preds_gpu\n",
    "\n",
    "from parking_slot_detector.utils.eval_utils import (\n",
    "    evaluate_on_gpu,\n",
    "    get_preds_gpu,\n",
    "    parse_gt_rec,\n",
    "    parse_gt_quadrangle,\n",
    "    calc_park_score,\n",
    "    park_eval,\n",
    "    eval_result_file,\n",
    ")\n",
    "from parking_slot_detector.utils.nms_utils import gpu_nms\n",
    "from parking_slot_detector.utils.plot_utils import plot_one_box, plot_one_quad\n",
    "from parking_slot_detector.model import yolov3\n",
    "\n"
   ]
  },
  {
   "cell_type": "code",
   "execution_count": 4,
   "metadata": {},
   "outputs": [
    {
     "name": "stdout",
     "output_type": "stream",
     "text": [
      "anchor_path parking_slot_detector/data/anchors.txt\n",
      "WARNING:tensorflow:From <ipython-input-4-f19cec4b09c7>:7: to_float (from tensorflow.python.ops.math_ops) is deprecated and will be removed in a future version.\n",
      "Instructions for updating:\n",
      "Use `tf.cast` instead.\n",
      "WARNING:tensorflow:From C:\\Users\\limaries30\\.conda\\envs\\tensor_flow\\lib\\site-packages\\tensorflow\\python\\ops\\array_ops.py:1354: add_dispatch_support.<locals>.wrapper (from tensorflow.python.ops.array_ops) is deprecated and will be removed in a future version.\n",
      "Instructions for updating:\n",
      "Use tf.where in 2.0, which has the same broadcast rule as np.where\n"
     ]
    }
   ],
   "source": [
    "anchors = parse_anchors(\"parking_slot_detector/data/anchors.txt\")\n",
    "image_dir = \"parking_slot_detector/data/bird_2.jpg\"\n",
    "weight_path=\"weight_psd/fine_tuned_type_2\"\n",
    "class_num = 2\n",
    "\n",
    "image = cv2.imread(image_dir, cv2.COLOR_RGB2GRAY)\n",
    "image = tf.to_float(image[np.newaxis, :])\n",
    "\n",
    "# setting placeholders\n",
    "is_training = tf.placeholder(dtype=tf.bool, name=\"phase_train\")\n",
    "handle_flag = tf.placeholder(tf.string, [], name=\"iterator_handle_flag\")\n",
    "# pred_boxes_flag = tf.placeholder(tf.float32, [1, None, None])\n",
    "pred_scores_flag = tf.placeholder(tf.float32, [1, None, None])\n",
    "pred_quads_flag = tf.placeholder(tf.float32, [1, None, None])\n",
    "\n",
    "gpu_nms_op = gpu_nms(\n",
    "    pred_quads_flag,\n",
    "    pred_scores_flag,\n",
    "    class_num,\n",
    "    NMS_TOPK,\n",
    "    THRESHOLD_OBJ,\n",
    "    THRESHOLD_NMS,\n",
    "    apply_rotate=True,\n",
    ")"
   ]
  },
  {
   "cell_type": "code",
   "execution_count": 5,
   "metadata": {
    "scrolled": true
   },
   "outputs": [
    {
     "name": "stdout",
     "output_type": "stream",
     "text": [
      "WARNING:tensorflow:From C:\\tensor_code\\AutoParking\\ScatCar\\models\\context_based\\parking_slot_detector\\model.py:55: The name tf.variable_scope is deprecated. Please use tf.compat.v1.variable_scope instead.\n",
      "\n",
      "WARNING:tensorflow:From C:\\tensor_code\\AutoParking\\ScatCar\\models\\context_based\\parking_slot_detector\\utils\\layer_utils.py:87: The name tf.image.resize_nearest_neighbor is deprecated. Please use tf.compat.v1.image.resize_nearest_neighbor instead.\n",
      "\n",
      "weight_path weight_psd/fine_tuned_type_2\n",
      "WARNING:tensorflow:From C:\\Users\\limaries30\\.conda\\envs\\tensor_flow\\lib\\site-packages\\tensorflow\\python\\training\\saver.py:1276: checkpoint_exists (from tensorflow.python.training.checkpoint_management) is deprecated and will be removed in a future version.\n",
      "Instructions for updating:\n",
      "Use standard file APIs to check for files with this prefix.\n",
      "INFO:tensorflow:Restoring parameters from weight_psd/fine_tuned_type_2\\trained_type_2\n",
      "__y_pred [(array([[[0.0000000e+00],\n",
      "        [0.0000000e+00],\n",
      "        [2.6822090e-07],\n",
      "        ...,\n",
      "        [1.8153757e-02],\n",
      "        [4.9971074e-02],\n",
      "        [6.2859803e-02]]], dtype=float32), array([[[0.        , 1.        ],\n",
      "        [0.        , 0.9999948 ],\n",
      "        [0.00191468, 0.99717224],\n",
      "        ...,\n",
      "        [0.9742628 , 0.00364441],\n",
      "        [0.99626076, 0.00767076],\n",
      "        [0.94364005, 0.04626024]]], dtype=float32), array([[[ 252.5896  ,  179.4657  ,  171.70213 , ...,  -72.149826,\n",
      "         -104.39408 ,  216.8708  ],\n",
      "        [ 239.9909  ,  379.52365 , -239.98541 , ...,  393.5095  ,\n",
      "          175.08806 , -362.30875 ],\n",
      "        [-376.8203  , -170.80754 ,  546.75903 , ...,  158.55765 ,\n",
      "         -236.108   ,  224.4322  ],\n",
      "        ...,\n",
      "        [ 279.13818 ,  725.24756 ,  128.71552 , ...,  779.8299  ,\n",
      "          356.45255 ,  771.86255 ],\n",
      "        [ 116.16385 ,  699.9459  ,  168.60747 , ...,  825.4197  ,\n",
      "          400.93323 ,  796.3184  ],\n",
      "        [ 103.68646 ,  763.16754 ,  155.80258 , ...,  708.7981  ,\n",
      "          391.1991  ,  749.4949  ]]], dtype=float32))]\n",
      "label: 1 score: 1.00000000 238.89 182.78 -209.40 389.37 -253.47 -29.51 -166.71 259.16 \n",
      "label: 0 score: 1.00000000 252.41 893.72 246.12 810.58 -253.47 514.64 -245.45 606.32 \n",
      "label: 0 score: 0.99998534 115.65 162.07 129.36 318.77 403.87 289.63 355.59 -262.21 \n",
      "label: 1 score: 0.99910331 -68.55 546.52 -14.06 598.48 243.51 497.73 229.80 331.66 \n",
      "label: 1 score: 0.99020869 -2.95 170.38 -18.17 210.85 125.21 233.59 128.89 153.50 \n",
      "label: 1 score: 0.97288650 -153.67 -50.89 85.27 156.29 146.79 148.59 143.13 -16.56 \n",
      "label: 1 score: 0.96817726 174.02 109.67 99.85 205.06 204.82 205.10 294.73 64.05 \n"
     ]
    }
   ],
   "source": [
    "yolo_model = yolov3(class_num, anchors)\n",
    "with tf.variable_scope(\"yolov3\"):\n",
    "    pred_feature_maps = yolo_model.forward(image, is_training=is_training)\n",
    "\n",
    "\n",
    "image_angle = tf.dtypes.cast([-5], tf.float32)\n",
    "\n",
    "y_pred = yolo_model.predict(pred_feature_maps, image_angle)\n",
    "\n",
    "saver_to_restore = tf.train.Saver()\n",
    "print(\"weight_path\", weight_path)\n",
    "weight_file = tf.train.latest_checkpoint(weight_path)  # ../weight_psd/fine_tuned_type_0\n",
    "\n",
    "vars_in_checkpoint = tf.train.list_variables(weight_path)\n",
    "with tf.Session() as sess:\n",
    "    sess.run([tf.global_variables_initializer()])\n",
    "    saver_to_restore.restore(sess, weight_file)\n",
    "\n",
    "    # start_time = time.time()\n",
    "    __y_pred = sess.run([y_pred], feed_dict={is_training: False})\n",
    "    print('__y_pred',__y_pred)\n",
    "    pred_content = get_preds_gpu(\n",
    "        sess, gpu_nms_op, pred_quads_flag, pred_scores_flag, [0], __y_pred\n",
    "    )\n",
    "\n",
    "    for img_id, x_min, y_min, x_max, y_max, score, label, quad in pred_content:\n",
    "        print(\n",
    "            \"label: %d score: %.8f %.2f %.2f %.2f %.2f %.2f %.2f %.2f %.2f \"\n",
    "            % (\n",
    "                label,\n",
    "                score,\n",
    "                quad[0],\n",
    "                quad[1],\n",
    "                quad[2],\n",
    "                quad[3],\n",
    "                quad[4],\n",
    "                quad[5],\n",
    "                quad[6],\n",
    "                quad[7],\n",
    "            )\n",
    "        )"
   ]
  },
  {
   "cell_type": "code",
   "execution_count": 6,
   "metadata": {},
   "outputs": [],
   "source": [
    "img = image.eval(session=tf.compat.v1.Session()).squeeze()"
   ]
  },
  {
   "cell_type": "code",
   "execution_count": 7,
   "metadata": {
    "scrolled": true
   },
   "outputs": [
    {
     "name": "stderr",
     "output_type": "stream",
     "text": [
      "Clipping input data to the valid range for imshow with RGB data ([0..1] for floats or [0..255] for integers).\n"
     ]
    },
    {
     "data": {
      "text/plain": [
       "<matplotlib.image.AxesImage at 0x204b4740b38>"
      ]
     },
     "execution_count": 7,
     "metadata": {},
     "output_type": "execute_result"
    },
    {
     "data": {
      "image/png": "[encoded data removed]",
      "text/plain": [
       "<Figure size 432x288 with 1 Axes>"
      ]
     },
     "metadata": {
      "needs_background": "light"
     },
     "output_type": "display_data"
    }
   ],
   "source": [
    "plt.imshow(img)"
   ]
  },
  {
   "cell_type": "code",
   "execution_count": 8,
   "metadata": {},
   "outputs": [],
   "source": [
    "test_image = cv2.imread(image_dir, cv2.COLOR_RGB2GRAY)"
   ]
  },
  {
   "cell_type": "code",
   "execution_count": 9,
   "metadata": {
    "scrolled": true
   },
   "outputs": [
    {
     "data": {
      "text/plain": [
       "<matplotlib.image.AxesImage at 0x204b47de160>"
      ]
     },
     "execution_count": 9,
     "metadata": {},
     "output_type": "execute_result"
    },
    {
     "data": {
      "image/png": "[encoded data removed]",
      "text/plain": [
       "<Figure size 432x288 with 1 Axes>"
      ]
     },
     "metadata": {
      "needs_background": "light"
     },
     "output_type": "display_data"
    }
   ],
   "source": [
    "plt.imshow(test_image)"
   ]
  },
  {
   "cell_type": "code",
   "execution_count": 10,
   "metadata": {},
   "outputs": [],
   "source": [
    "def plot_one_quad(img, quad, label=None, color=None, line_thickness=None):\n",
    "    '''\n",
    "    coord: [x_min, y_min, x_max, y_max] format coordinates.\n",
    "    img: img to plot on.\n",
    "    label: str. The label name.\n",
    "    color: int. color index.\n",
    "    line_thickness: int. rectangle line thickness.\n",
    "    '''\n",
    "    tl = line_thickness or int(round(0.002 * max(img.shape[0:2])))  # line thickness\n",
    "    color = color or [random.randint(0, 255) for _ in range(3)]\n",
    "    c1, c2, c3, c4 = (int(quad[0]), int(quad[1])), (int(quad[2]), int(quad[3])), (int(quad[4]), int(quad[5])), (int(quad[6]), int(quad[7]))\n",
    "    pts = np.array([quad[0:2], quad[2:4], quad[4:6], quad[6:8], quad[0:2]], np.int32)\n",
    "    pts = pts.reshape((-1, 1, 2))\n",
    "    cv2.polylines(img, [pts], False, color, thickness=tl)\n",
    "    if label:\n",
    "        tf = max(tl - 1, 2)  # font thickness\n",
    "        t_size = cv2.getTextSize(label, 0, fontScale=float(tl) / 3, thickness=tf)[0]\n",
    "        c2 = c1[0] + t_size[0], c1[1] - t_size[1] - 3\n",
    "        # cv2.rectangle(img, c1, c2, color, -1)  # filled\n",
    "        cv2.putText(img, label, ((c1[0]+c3[0]-t_size[0])//2, (c1[1]+c3[1]+t_size[1])//2), 0, float(tl) / 3, color, thickness=tf, lineType=cv2.LINE_AA)\n",
    "\n",
    "        \n",
    "def plot_one_box(img, coord, label=None, color=None, line_thickness=None):\n",
    "    '''\n",
    "    coord: [x_min, y_min, x_max, y_max] format coordinates.\n",
    "    img: img to plot on.\n",
    "    label: str. The label name.\n",
    "    color: int. color index.\n",
    "    line_thickness: int. rectangle line thickness.\n",
    "    '''\n",
    "    tl = line_thickness or int(round(0.002 * max(img.shape[0:2])))  # line thickness\n",
    "    color = color or [random.randint(0, 255) for _ in range(3)]\n",
    "    c1, c2 = (int(coord[0]), int(coord[1])), (int(coord[2]), int(coord[3]))\n",
    "    cv2.rectangle(img, c1, c2, color, thickness=tl)\n",
    "    if label:\n",
    "        tf = max(tl - 1, 1)  # font thickness\n",
    "        t_size = cv2.getTextSize(label, 0, fontScale=float(tl) / 3, thickness=tf)[0]\n",
    "        c2 = c1[0] + t_size[0], c1[1] - t_size[1] - 3\n",
    "        cv2.rectangle(img, c1, c2, color, -1)  # filled\n",
    "        cv2.putText(img, label, (c1[0], c1[1] - 2), 0, float(tl) / 3, [0, 0, 0], thickness=tf, lineType=cv2.LINE_AA)"
   ]
  },
  {
   "cell_type": "code",
   "execution_count": 11,
   "metadata": {},
   "outputs": [],
   "source": [
    "plot_one_box(test_image,pred_content[1][-1])"
   ]
  },
  {
   "cell_type": "code",
   "execution_count": 20,
   "metadata": {},
   "outputs": [],
   "source": [
    "plot_one_quad(test_image,pred_content[3][-1])"
   ]
  },
  {
   "cell_type": "code",
   "execution_count": 21,
   "metadata": {},
   "outputs": [
    {
     "data": {
      "text/plain": [
       "-1"
      ]
     },
     "execution_count": 21,
     "metadata": {},
     "output_type": "execute_result"
    }
   ],
   "source": [
    "cv2.imshow('img',test_image)\n",
    "cv2.waitKey(0)"
   ]
  },
  {
   "cell_type": "code",
   "execution_count": 15,
   "metadata": {
    "scrolled": true
   },
   "outputs": [
    {
     "data": {
      "text/plain": [
       "[0,\n",
       " -253.4743,\n",
       " -29.507812,\n",
       " 238.89308,\n",
       " 389.37393,\n",
       " 1.0,\n",
       " 1,\n",
       " array([ 238.89308 ,  182.77863 , -209.39722 ,  389.37393 , -253.4743  ,\n",
       "         -29.507812, -166.71214 ,  259.16168 ], dtype=float32)]"
      ]
     },
     "execution_count": 15,
     "metadata": {},
     "output_type": "execute_result"
    }
   ],
   "source": [
    "pred_content[0]"
   ]
  },
  {
   "cell_type": "code",
   "execution_count": 14,
   "metadata": {},
   "outputs": [],
   "source": [
    "#tf.reset_default_graph()"
   ]
  },
  {
   "cell_type": "code",
   "execution_count": null,
   "metadata": {},
   "outputs": [],
   "source": []
  }
 ],
 "metadata": {
  "kernelspec": {
   "display_name": "tensor_flow",
   "language": "python",
   "name": "tensor_flow"
  },
  "language_info": {
   "codemirror_mode": {
    "name": "ipython",
    "version": 3
   },
   "file_extension": ".py",
   "mimetype": "text/x-python",
   "name": "python",
   "nbconvert_exporter": "python",
   "pygments_lexer": "ipython3",
   "version": "3.6.10"
  }
 },
 "nbformat": 4,
 "nbformat_minor": 4
}
