{
 "cells": [
  {
   "cell_type": "code",
   "execution_count": 1,
   "metadata": {
    "scrolled": true
   },
   "outputs": [],
   "source": [
    "import warnings\n",
    "warnings.simplefilter(action='ignore', category=FutureWarning)\n",
    "import matplotlib.pyplot as plt\n",
    "import tensorflow as tf"
   ]
  },
  {
   "cell_type": "code",
   "execution_count": 2,
   "metadata": {},
   "outputs": [],
   "source": [
    "import random\n",
    "from parking_context_recognizer.models import model_mobilenetv2 as model"
   ]
  },
  {
   "cell_type": "code",
   "execution_count": 3,
   "metadata": {
    "scrolled": true
   },
   "outputs": [
    {
     "name": "stdout",
     "output_type": "stream",
     "text": [
      "WARNING:tensorflow:\n",
      "The TensorFlow contrib module will not be included in TensorFlow 2.0.\n",
      "For more information, please see:\n",
      "  * https://github.com/tensorflow/community/blob/master/rfcs/20180907-contrib-sunset.md\n",
      "  * https://github.com/tensorflow/addons\n",
      "  * https://github.com/tensorflow/io (for I/O related ops)\n",
      "If you depend on functionality not listed there, please file an issue.\n",
      "\n"
     ]
    }
   ],
   "source": [
    "from parking_slot_detector.config import *\n",
    "from parking_slot_detector.utils.data_utils import get_batch_data, parse_line\n",
    "from parking_slot_detector.utils.misc_utils import parse_anchors, read_class_names, AverageMeter\n",
    "import cv2\n",
    "import numpy as np\n",
    "\n",
    "from parking_slot_detector.utils.eval_utils import get_preds_gpu\n",
    "\n",
    "from parking_slot_detector.utils.eval_utils import (\n",
    "    evaluate_on_gpu,\n",
    "    get_preds_gpu,\n",
    "    parse_gt_rec,\n",
    "    parse_gt_quadrangle,\n",
    "    calc_park_score,\n",
    "    park_eval,\n",
    "    eval_result_file,\n",
    ")\n",
    "from parking_slot_detector.utils.nms_utils import gpu_nms\n",
    "from parking_slot_detector.utils.plot_utils import plot_one_box, plot_one_quad\n",
    "from parking_slot_detector.model import yolov3\n",
    "\n"
   ]
  },
  {
   "cell_type": "code",
   "execution_count": 4,
   "metadata": {},
   "outputs": [],
   "source": [
    "image_dir = \"parking_slot_detector/data/bird_1.jpg\"\n",
    "image = cv2.imread(image_dir, cv2.COLOR_RGB2GRAY)\n",
    "img = cv2.resize(image, (64, 192))\n",
    "image = image[np.newaxis,:]\n",
    "img = img[np.newaxis, :]"
   ]
  },
  {
   "cell_type": "code",
   "execution_count": 5,
   "metadata": {
    "scrolled": true
   },
   "outputs": [
    {
     "name": "stdout",
     "output_type": "stream",
     "text": [
      "WARNING:tensorflow:From C:\\Users\\limaries30\\.conda\\envs\\tensor_flow\\lib\\site-packages\\tensorflow\\python\\ops\\init_ops.py:1251: calling VarianceScaling.__init__ (from tensorflow.python.ops.init_ops) with dtype is deprecated and will be removed in a future version.\n",
      "Instructions for updating:\n",
      "Call initializer instance with the dtype argument instead of passing it to the constructor\n"
     ]
    },
    {
     "name": "stderr",
     "output_type": "stream",
     "text": [
      "C:\\Users\\limaries30\\.conda\\envs\\tensor_flow\\lib\\site-packages\\keras_applications\\mobilenet_v2.py:294: UserWarning: `input_shape` is undefined or non-square, or `rows` is not in [96, 128, 160, 192, 224]. Weights for input shape (224, 224) will be loaded as the default.\n",
      "  warnings.warn('`input_shape` is undefined or non-square, '\n"
     ]
    },
    {
     "data": {
      "text/plain": [
       "<tensorflow.python.training.tracking.util.CheckpointLoadStatus at 0x132a3cace10>"
      ]
     },
     "execution_count": 5,
     "metadata": {},
     "output_type": "execute_result"
    }
   ],
   "source": [
    "model_input = (192,64,3) \n",
    "test_model = model(model_input)\n",
    "test_model.load_weights(\"weight_pcr/trained/trained.ckpt\")"
   ]
  },
  {
   "cell_type": "code",
   "execution_count": 6,
   "metadata": {
    "scrolled": true
   },
   "outputs": [
    {
     "name": "stdout",
     "output_type": "stream",
     "text": [
      "WARNING:tensorflow:From C:\\Users\\limaries30\\.conda\\envs\\tensor_flow\\lib\\site-packages\\tensorflow\\python\\ops\\image_ops_impl.py:1514: div (from tensorflow.python.ops.math_ops) is deprecated and will be removed in a future version.\n",
      "Instructions for updating:\n",
      "Deprecated in favor of operator or tf.math.divide.\n",
      "[0] [[1.1780243]]\n"
     ]
    }
   ],
   "source": [
    "img = tf.image.per_image_standardization(img)\n",
    "predicted_result = test_model.predict(img,steps=1)\n",
    "\n",
    "type_predict, angle_predict = predicted_result[0], predicted_result[1]\n",
    "\n",
    "tf.keras.backend.clear_session()\n",
    "\n",
    "type_predict = np.argmax(type_predict, axis=1)\n",
    "\n",
    "\n",
    "angle_predict = angle_predict * 180.0 - 90.0\n",
    "\n",
    "print(type_predict,angle_predict)"
   ]
  },
  {
   "cell_type": "code",
   "execution_count": 7,
   "metadata": {},
   "outputs": [
    {
     "data": {
      "text/plain": [
       "1.1780243"
      ]
     },
     "execution_count": 7,
     "metadata": {},
     "output_type": "execute_result"
    }
   ],
   "source": [
    "angle_predict[0][0]"
   ]
  },
  {
   "cell_type": "code",
   "execution_count": 8,
   "metadata": {
    "scrolled": true
   },
   "outputs": [
    {
     "name": "stdout",
     "output_type": "stream",
     "text": [
      "anchor_path parking_slot_detector/data/anchors.txt\n",
      "WARNING:tensorflow:From <ipython-input-8-76c27298e653>:5: to_float (from tensorflow.python.ops.math_ops) is deprecated and will be removed in a future version.\n",
      "Instructions for updating:\n",
      "Use `tf.cast` instead.\n",
      "WARNING:tensorflow:From C:\\Users\\limaries30\\.conda\\envs\\tensor_flow\\lib\\site-packages\\tensorflow\\python\\ops\\array_ops.py:1354: add_dispatch_support.<locals>.wrapper (from tensorflow.python.ops.array_ops) is deprecated and will be removed in a future version.\n",
      "Instructions for updating:\n",
      "Use tf.where in 2.0, which has the same broadcast rule as np.where\n"
     ]
    }
   ],
   "source": [
    "anchors = parse_anchors(\"parking_slot_detector/data/anchors.txt\")\n",
    "weight_path=\"weight_psd/fine_tuned_type_0\"\n",
    "class_num = 2\n",
    "\n",
    "image = tf.to_float(image/255)\n",
    "#image = tf.image.per_image_standardization(image)\n",
    "\n",
    "# setting placeholders\n",
    "is_training = tf.placeholder(dtype=tf.bool, name=\"phase_train\")\n",
    "handle_flag = tf.placeholder(tf.string, [], name=\"iterator_handle_flag\")\n",
    "# pred_boxes_flag = tf.placeholder(tf.float32, [1, None, None])\n",
    "pred_scores_flag = tf.placeholder(tf.float32, [1, None, None])\n",
    "pred_quads_flag = tf.placeholder(tf.float32, [1, None, None])\n",
    "\n",
    "gpu_nms_op = gpu_nms(\n",
    "    pred_quads_flag,\n",
    "    pred_scores_flag,\n",
    "    class_num,\n",
    "    NMS_TOPK,\n",
    "    THRESHOLD_OBJ,\n",
    "    THRESHOLD_NMS,\n",
    "    apply_rotate=True,\n",
    ")"
   ]
  },
  {
   "cell_type": "code",
   "execution_count": 9,
   "metadata": {
    "scrolled": true
   },
   "outputs": [
    {
     "name": "stdout",
     "output_type": "stream",
     "text": [
      "WARNING:tensorflow:From C:\\tensor_code\\AutoParking\\ScatCar\\models\\context_based\\parking_slot_detector\\model.py:55: The name tf.variable_scope is deprecated. Please use tf.compat.v1.variable_scope instead.\n",
      "\n",
      "WARNING:tensorflow:From C:\\tensor_code\\AutoParking\\ScatCar\\models\\context_based\\parking_slot_detector\\utils\\layer_utils.py:87: The name tf.image.resize_nearest_neighbor is deprecated. Please use tf.compat.v1.image.resize_nearest_neighbor instead.\n",
      "\n",
      "weight_path weight_psd/fine_tuned_type_0\n",
      "WARNING:tensorflow:From C:\\Users\\limaries30\\.conda\\envs\\tensor_flow\\lib\\site-packages\\tensorflow\\python\\training\\saver.py:1276: checkpoint_exists (from tensorflow.python.training.checkpoint_management) is deprecated and will be removed in a future version.\n",
      "Instructions for updating:\n",
      "Use standard file APIs to check for files with this prefix.\n",
      "INFO:tensorflow:Restoring parameters from weight_psd/fine_tuned_type_0\\trained_type_0\n",
      "__y_pred [(array([[[0.00012347],\n",
      "        [0.00067624],\n",
      "        [0.00356624],\n",
      "        ...,\n",
      "        [0.00263175],\n",
      "        [0.00683349],\n",
      "        [0.00129467]]], dtype=float32), array([[[6.4074993e-06, 8.5929829e-01],\n",
      "        [1.1186004e-03, 1.8856511e-01],\n",
      "        [6.4456463e-04, 7.5740099e-01],\n",
      "        ...,\n",
      "        [9.9556327e-01, 9.0774894e-04],\n",
      "        [9.9944943e-01, 3.9839745e-04],\n",
      "        [9.8780924e-01, 4.3144524e-03]]], dtype=float32), array([[[ -46.081013,   85.02619 ,  233.80151 , ...,  -94.93651 ,\n",
      "         -231.52608 , -215.10303 ],\n",
      "        [ 197.72511 ,  403.05835 ,  157.76167 , ...,  107.87479 ,\n",
      "          103.01177 ,  171.51738 ],\n",
      "        [ 534.79724 ,  -83.72693 ,  521.3196  , ...,  213.05582 ,\n",
      "          527.2435  ,  213.88043 ],\n",
      "        ...,\n",
      "        [ 212.47493 ,  716.964   ,  188.3018  , ...,  757.86456 ,\n",
      "          305.8517  ,  796.3911  ],\n",
      "        [ 197.39505 ,  708.08575 ,  162.05106 , ...,  748.40173 ,\n",
      "          303.2364  ,  830.7005  ],\n",
      "        [ 218.49384 ,  737.78925 ,  227.30246 , ...,  721.10944 ,\n",
      "          330.6031  ,  806.56195 ]]], dtype=float32))]\n",
      "label: 0 score: 0.92037940 108.21 205.62 98.46 504.91 225.66 507.95 237.06 208.45 \n"
     ]
    }
   ],
   "source": [
    "yolo_model = yolov3(class_num, anchors)\n",
    "with tf.variable_scope(\"yolov3\"):\n",
    "    pred_feature_maps = yolo_model.forward(image, is_training=is_training)\n",
    "\n",
    "\n",
    "image_angle = tf.dtypes.cast([angle_predict[0][0]], tf.float32)\n",
    "\n",
    "y_pred = yolo_model.predict(pred_feature_maps, image_angle)\n",
    "\n",
    "saver_to_restore = tf.train.Saver()\n",
    "print(\"weight_path\", weight_path)\n",
    "weight_file = tf.train.latest_checkpoint(weight_path)  # ../weight_psd/fine_tuned_type_0\n",
    "\n",
    "vars_in_checkpoint = tf.train.list_variables(weight_path)\n",
    "with tf.Session() as sess:\n",
    "    sess.run([tf.global_variables_initializer()])\n",
    "    saver_to_restore.restore(sess, weight_file)\n",
    "\n",
    "    # start_time = time.time()\n",
    "    __y_pred = sess.run([y_pred], feed_dict={is_training: False})\n",
    "    print('__y_pred',__y_pred)\n",
    "    pred_content = get_preds_gpu(\n",
    "        sess, gpu_nms_op, pred_quads_flag, pred_scores_flag, [0], __y_pred\n",
    "    )\n",
    "\n",
    "    for img_id, x_min, y_min, x_max, y_max, score, label, quad in pred_content:\n",
    "        print(\n",
    "            \"label: %d score: %.8f %.2f %.2f %.2f %.2f %.2f %.2f %.2f %.2f \"\n",
    "            % (\n",
    "                label,\n",
    "                score,\n",
    "                quad[0],\n",
    "                quad[1],\n",
    "                quad[2],\n",
    "                quad[3],\n",
    "                quad[4],\n",
    "                quad[5],\n",
    "                quad[6],\n",
    "                quad[7],\n",
    "            )\n",
    "        )"
   ]
  },
  {
   "cell_type": "code",
   "execution_count": 10,
   "metadata": {},
   "outputs": [],
   "source": [
    "img = image.eval(session=tf.compat.v1.Session()).squeeze()"
   ]
  },
  {
   "cell_type": "code",
   "execution_count": 11,
   "metadata": {
    "scrolled": true
   },
   "outputs": [
    {
     "data": {
      "text/plain": [
       "<matplotlib.image.AxesImage at 0x132ace47d68>"
      ]
     },
     "execution_count": 11,
     "metadata": {},
     "output_type": "execute_result"
    },
    {
     "data": {
      "image/png": "[encoded data removed]",
      "text/plain": [
       "<Figure size 432x288 with 1 Axes>"
      ]
     },
     "metadata": {
      "needs_background": "light"
     },
     "output_type": "display_data"
    }
   ],
   "source": [
    "plt.imshow(img)"
   ]
  },
  {
   "cell_type": "code",
   "execution_count": 21,
   "metadata": {},
   "outputs": [],
   "source": [
    "test_image = cv2.imread(image_dir, cv2.COLOR_RGB2GRAY)"
   ]
  },
  {
   "cell_type": "code",
   "execution_count": 13,
   "metadata": {
    "collapsed": true
   },
   "outputs": [
    {
     "data": {
      "text/plain": [
       "<matplotlib.image.AxesImage at 0x132ad128908>"
      ]
     },
     "execution_count": 13,
     "metadata": {},
     "output_type": "execute_result"
    },
    {
     "data": {
      "image/png": "[encoded data removed]",
      "text/plain": [
       "<Figure size 432x288 with 1 Axes>"
      ]
     },
     "metadata": {
      "needs_background": "light"
     },
     "output_type": "display_data"
    }
   ],
   "source": [
    "plt.imshow(test_image)"
   ]
  },
  {
   "cell_type": "code",
   "execution_count": 14,
   "metadata": {},
   "outputs": [],
   "source": [
    "def plot_one_quad(img, quad, label=None, color=None, line_thickness=None):\n",
    "    '''\n",
    "    coord: [x_min, y_min, x_max, y_max] format coordinates.\n",
    "    img: img to plot on.\n",
    "    label: str. The label name.\n",
    "    color: int. color index.\n",
    "    line_thickness: int. rectangle line thickness.\n",
    "    '''\n",
    "    tl = line_thickness or int(round(0.002 * max(img.shape[0:2])))  # line thickness\n",
    "    color = color or [random.randint(0, 255) for _ in range(3)]\n",
    "    c1, c2, c3, c4 = (int(quad[0]), int(quad[1])), (int(quad[2]), int(quad[3])), (int(quad[4]), int(quad[5])), (int(quad[6]), int(quad[7]))\n",
    "    pts = np.array([quad[0:2], quad[2:4], quad[4:6], quad[6:8], quad[0:2]], np.int32)\n",
    "    pts = pts.reshape((-1, 1, 2))\n",
    "    cv2.polylines(img, [pts], False, color, thickness=tl)\n",
    "    if label:\n",
    "        tf = max(tl - 1, 2)  # font thickness\n",
    "        t_size = cv2.getTextSize(label, 0, fontScale=float(tl) / 3, thickness=tf)[0]\n",
    "        c2 = c1[0] + t_size[0], c1[1] - t_size[1] - 3\n",
    "        # cv2.rectangle(img, c1, c2, color, -1)  # filled\n",
    "        cv2.putText(img, label, ((c1[0]+c3[0]-t_size[0])//2, (c1[1]+c3[1]+t_size[1])//2), 0, float(tl) / 3, color, thickness=tf, lineType=cv2.LINE_AA)\n",
    "\n",
    "        \n",
    "def plot_one_box(img, coord, label=None, color=None, line_thickness=None):\n",
    "    '''\n",
    "    coord: [x_min, y_min, x_max, y_max] format coordinates.\n",
    "    img: img to plot on.\n",
    "    label: str. The label name.\n",
    "    color: int. color index.\n",
    "    line_thickness: int. rectangle line thickness.\n",
    "    '''\n",
    "    tl = line_thickness or int(round(0.002 * max(img.shape[0:2])))  # line thickness\n",
    "    color = color or [random.randint(0, 255) for _ in range(3)]\n",
    "    c1, c2 = (int(coord[0]), int(coord[1])), (int(coord[2]), int(coord[3]))\n",
    "    cv2.rectangle(img, c1, c2, color, thickness=tl)\n",
    "    if label:\n",
    "        tf = max(tl - 1, 1)  # font thickness\n",
    "        t_size = cv2.getTextSize(label, 0, fontScale=float(tl) / 3, thickness=tf)[0]\n",
    "        c2 = c1[0] + t_size[0], c1[1] - t_size[1] - 3\n",
    "        cv2.rectangle(img, c1, c2, color, -1)  # filled\n",
    "        cv2.putText(img, label, (c1[0], c1[1] - 2), 0, float(tl) / 3, [0, 0, 0], thickness=tf, lineType=cv2.LINE_AA)"
   ]
  },
  {
   "cell_type": "code",
   "execution_count": 15,
   "metadata": {
    "collapsed": true
   },
   "outputs": [
    {
     "data": {
      "text/plain": [
       "[[0,\n",
       "  98.46199,\n",
       "  205.6199,\n",
       "  237.0567,\n",
       "  507.94922,\n",
       "  0.9203794,\n",
       "  0,\n",
       "  array([108.20889, 205.6199 ,  98.46199, 504.9096 , 225.66238, 507.94922,\n",
       "         237.0567 , 208.45122], dtype=float32)]]"
      ]
     },
     "execution_count": 15,
     "metadata": {},
     "output_type": "execute_result"
    }
   ],
   "source": [
    "pred_content"
   ]
  },
  {
   "cell_type": "code",
   "execution_count": 16,
   "metadata": {},
   "outputs": [],
   "source": [
    "#plot_one_box(test_image,pred_content[0][-1])"
   ]
  },
  {
   "cell_type": "code",
   "execution_count": 17,
   "metadata": {},
   "outputs": [],
   "source": [
    "plot_one_quad(test_image,pred_content[0][-1])"
   ]
  },
  {
   "cell_type": "code",
   "execution_count": 22,
   "metadata": {},
   "outputs": [
    {
     "data": {
      "text/plain": [
       "-1"
      ]
     },
     "execution_count": 22,
     "metadata": {},
     "output_type": "execute_result"
    }
   ],
   "source": [
    "cv2.imshow('img',test_image)\n",
    "cv2.waitKey(0)"
   ]
  },
  {
   "cell_type": "code",
   "execution_count": 19,
   "metadata": {
    "scrolled": true
   },
   "outputs": [
    {
     "data": {
      "text/plain": [
       "[[0,\n",
       "  98.46199,\n",
       "  205.6199,\n",
       "  237.0567,\n",
       "  507.94922,\n",
       "  0.9203794,\n",
       "  0,\n",
       "  array([108.20889, 205.6199 ,  98.46199, 504.9096 , 225.66238, 507.94922,\n",
       "         237.0567 , 208.45122], dtype=float32)]]"
      ]
     },
     "execution_count": 19,
     "metadata": {},
     "output_type": "execute_result"
    }
   ],
   "source": [
    "pred_content"
   ]
  },
  {
   "cell_type": "code",
   "execution_count": 20,
   "metadata": {},
   "outputs": [],
   "source": [
    "#tf.reset_default_graph()"
   ]
  },
  {
   "cell_type": "code",
   "execution_count": null,
   "metadata": {},
   "outputs": [],
   "source": []
  }
 ],
 "metadata": {
  "kernelspec": {
   "display_name": "tensor_flow",
   "language": "python",
   "name": "tensor_flow"
  },
  "language_info": {
   "codemirror_mode": {
    "name": "ipython",
    "version": 3
   },
   "file_extension": ".py",
   "mimetype": "text/x-python",
   "name": "python",
   "nbconvert_exporter": "python",
   "pygments_lexer": "ipython3",
   "version": "3.6.10"
  }
 },
 "nbformat": 4,
 "nbformat_minor": 4
}
